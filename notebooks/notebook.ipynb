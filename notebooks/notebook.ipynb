{
 "cells": [
  {
   "cell_type": "code",
   "execution_count": 1,
   "metadata": {},
   "outputs": [],
   "source": [
    "from bs4 import BeautifulSoup\n",
    "import requests\n",
    "import polars as pl\n",
    "\n",
    "websites = [\n",
    "    'https://www.foxnews.com/'\n",
    "]"
   ]
  },
  {
   "cell_type": "code",
   "execution_count": 2,
   "metadata": {},
   "outputs": [
    {
     "name": "stdout",
     "output_type": "stream",
     "text": [
      "Sports\n",
      "\n",
      "Discover how faith meets football as Coach Duron mentors his team both on and off the field as they chase their 15th State Championship. Watch God. Family. Football. on Fox Nation.\n",
      "\n",
      "OutKick\n",
      "Digital Originals\n",
      "Economy\n",
      "Fox News Flash\n",
      "Elections\n",
      "Personal Freedoms\n",
      "World\n",
      "Opinion\n",
      "Health\n",
      "Crime\n",
      "America Together\n",
      "Military\n",
      "Entertainment\n",
      "Sports\n",
      "U.S.\n",
      "Family\n",
      "Personal Finance\n",
      "Technology\n",
      "Movies\n",
      "Business\n",
      "Faith & Values\n",
      "Autos\n",
      "Travel + Outdoors\n",
      "Music\n",
      "Food + Drink\n",
      "FOX Weather\n",
      "Full Episodes\n",
      "Latest Wires\n",
      "Media\n",
      "Antisemitism Exposed\n",
      "Immigration\n",
      "Fox News Podcasts\n"
     ]
    }
   ],
   "source": [
    "\n",
    "\n",
    "response = requests.get(websites[0])\n",
    "if response.status_code == 200:\n",
    "    \n",
    "    soup = BeautifulSoup(response.content, 'html.parser')\n",
    "    \n",
    "    # Find all article titles (assuming they are within <h2> tags)\n",
    "    titles = soup.find_all('h2')\n",
    "    \n",
    "    # Print each title\n",
    "    for title in titles:\n",
    "        print(title.get_text())\n",
    "else:\n",
    "    print(f\"Failed to retrieve the webpage. Status code: {response.status_code}\")"
   ]
  },
  {
   "cell_type": "code",
   "execution_count": 3,
   "metadata": {},
   "outputs": [
    {
     "ename": "NameError",
     "evalue": "name 'html_doc' is not defined",
     "output_type": "error",
     "traceback": [
      "\u001b[1;31m---------------------------------------------------------------------------\u001b[0m",
      "\u001b[1;31mNameError\u001b[0m                                 Traceback (most recent call last)",
      "Cell \u001b[1;32mIn[3], line 1\u001b[0m\n\u001b[1;32m----> 1\u001b[0m soup \u001b[38;5;241m=\u001b[39m BeautifulSoup(\u001b[43mhtml_doc\u001b[49m, \u001b[38;5;124m'\u001b[39m\u001b[38;5;124mhtml.parser\u001b[39m\u001b[38;5;124m'\u001b[39m)\n",
      "\u001b[1;31mNameError\u001b[0m: name 'html_doc' is not defined"
     ]
    }
   ],
   "source": [
    "\n",
    "soup = BeautifulSoup(html_doc, 'html.parser')"
   ]
  }
 ],
 "metadata": {
  "kernelspec": {
   "display_name": ".venv",
   "language": "python",
   "name": "python3"
  },
  "language_info": {
   "codemirror_mode": {
    "name": "ipython",
    "version": 3
   },
   "file_extension": ".py",
   "mimetype": "text/x-python",
   "name": "python",
   "nbconvert_exporter": "python",
   "pygments_lexer": "ipython3",
   "version": "3.11.9"
  }
 },
 "nbformat": 4,
 "nbformat_minor": 2
}
